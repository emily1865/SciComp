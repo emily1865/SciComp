{
 "cells": [
  {
   "cell_type": "markdown",
   "metadata": {},
   "source": [
    "## Project 3\n",
    "Emily Wilbur "
   ]
  },
  {
   "cell_type": "code",
   "execution_count": 15,
   "metadata": {},
   "outputs": [],
   "source": [
    "import numpy as np\n",
    "import matplotlib.pyplot as plt"
   ]
  },
  {
   "cell_type": "code",
   "execution_count": 170,
   "metadata": {},
   "outputs": [
    {
     "data": {
      "image/png": "[encoded data removed]",
      "text/plain": [
       "<Figure size 864x432 with 2 Axes>"
      ]
     },
     "metadata": {
      "needs_background": "light"
     },
     "output_type": "display_data"
    }
   ],
   "source": [
    "# (a)\n",
    "# points: (N,3)−array of (x,y,z) coordinates for N points \n",
    "# distance(points): returns (N,N)−array of inter−point distances:\n",
    "def distance( points ):\n",
    "    displacement = points[:,np.newaxis] - points[np.newaxis,:]\n",
    "    return np.sqrt( np.sum(displacement*displacement, axis=-1) )\n",
    "\n",
    "# computing Lennard-Jones ~*energy*~\n",
    "def LJ(sigma,epsilon): \n",
    "    def V( points ):\n",
    "        r = distance(points)\n",
    "        rij = np.where(r !=0)\n",
    "        R = r[rij]\n",
    "        vLJ = 4*epsilon*((sigma/R)**12 - (sigma/R)**6)\n",
    "        V = np.sum((vLJ)/2) \n",
    "        return V\n",
    "    return V\n",
    "    \n",
    "# Do some computations! Parts 1 and 2 \n",
    "sigmaA = 3.401 # [A with a fun little hat]\n",
    "epsilonA = 0.997 # [kJ/mol]\n",
    "x = np.linspace(3,11,100)\n",
    "listLJ1 = []\n",
    "listLJ2 = []\n",
    "for i in range(len(x)):\n",
    "    X1 = np.array([[x[i], 0, 0],[0, 0, 0]])\n",
    "    X2 = np.array([[x[i], 0, 0],[0, 0, 0],[14, 0, 0],[7, 3.2, 0]])\n",
    "    LJ1 = LJ(sigmaA, epsilonA)(X1) # lennard-jones potential for part 1\n",
    "    listLJ1.append(LJ1)            # list of lennard-jones potential for part 1\n",
    "    LJ2 = LJ(sigmaA, epsilonA)(X2) # lennard-jones potential for part 2\n",
    "    listLJ2.append(LJ2)            # list of lennard-jones potential for part 2\n",
    "    \n",
    "plt.figure(figsize=(12,6))\n",
    "plt.subplot(1,2,1)\n",
    "plt.plot(listLJ1)\n",
    "plt.xlabel('x, first part')\n",
    "plt.ylabel('Lennard-Jones Potential')\n",
    "plt.subplot(1,2,2)\n",
    "plt.plot(listLJ2)\n",
    "plt.xlabel('x, second part')\n",
    "plt.show;"
   ]
  },
  {
   "cell_type": "code",
   "execution_count": 166,
   "metadata": {},
   "outputs": [],
   "source": [
    "# (b)\n",
    "# bisection root finding function \n",
    "# x, n calls = bisection root(f,a,b,tolerance=1e−13)\n",
    "def bisection_root(f,a,b,tolerance=10**(-13)):\n",
    "    fa, fb = f(a), f(b)\n",
    "    ncalls = 0 # open the counter for calls as a counter for how many times the loop runs\n",
    "    n = int(np.ceil(np.log2((b-a)/tolerance)))       \n",
    "    assert (np.sign(f(a)) != np.sign(f(b)))       \n",
    "    for i in range(n):\n",
    "        c_i = a + (b - a)/2\n",
    "        fc = f(c_i)\n",
    "        if np.sign(f(a)) == np.sign(fc):\n",
    "            a = c_i\n",
    "            fa = f(c_i)\n",
    "        else:\n",
    "            b = c_i\n",
    "            fb = f(b)\n",
    "        ncalls += 1 # count the loops\n",
    "    return c_i, ncalls\n",
    "\n",
    "# test it out\n",
    "ab = np.array([2,6])\n",
    "a = 2\n",
    "b = 6\n",
    "sigma = 3.401\n",
    "epsilon = 0.997\n",
    "V = LJ(sigma, epsilon)\n",
    "(xb, nb) = bisection_root(lambda X : V(np.array([[X, 0, 0],[0,0,0]])), a, b)"
   ]
  },
  {
   "cell_type": "code",
   "execution_count": 167,
   "metadata": {},
   "outputs": [
    {
     "name": "stdout",
     "output_type": "stream",
     "text": [
      "-13700.976175013506\n"
     ]
    }
   ],
   "source": [
    "# (c) \n",
    "# newton-rhapson root finding function\n",
    "# x, n calls = newton root(f,df,x0,tolerance,max iterations)\n",
    "def newton_root(f,df,x0,tolerance=10**(-12),maxiterations=100):\n",
    "    ncalls = 0 # open the counter for calls as a counter for how many times the loop runs\n",
    "    for i in range(maxiterations):\n",
    "        x0 = x0 - f(x0)/df(x0)\n",
    "        ncalls += 1\n",
    "    return x0, ncalls\n",
    "\n",
    "# try it out\n",
    "sigma = 3.401\n",
    "epsilon = 0.997\n",
    "dv = lambda R : 4*epsilon*((6*sigma**6)/R**7 - (12*sigma**12)/R**13)\n",
    "print(dv(2))\n",
    "x0 = 2\n",
    "(xc, nc) = newton_root(lambda X : V(np.array([[X, 0, 0],[0,0,0]])),dv,x0)\n",
    "Vf = lambda X : V(np.array([[X, 0, 0],[0,0,0]]))"
   ]
  },
  {
   "cell_type": "code",
   "execution_count": null,
   "metadata": {},
   "outputs": [],
   "source": [
    "# (d)\n",
    "# newton-rhapson w/ bisection, guaranteed convergence\n",
    "# oof"
   ]
  },
  {
   "cell_type": "code",
   "execution_count": 84,
   "metadata": {},
   "outputs": [],
   "source": [
    "from numpy import newaxis, fill_diagonal, sum, sqrt\n",
    "NA = newaxis\n",
    "\n",
    "# \\grad_k V(\\xx_k) = 4\\epsilon \\sum_{j\\ne k} (6\\sigma^6/r_{kj}^7 - 12\\sigma^12/r_{kj}^13) u_{kj}\n",
    "#                  = 4\\epsilon \\sum_{j=1}^N  (6\\sigma^6/\\tilde{r}_{kj}^7 - 12\\sigma^12/\\tilde{r}_{kj}^13) u_{kj}  \n",
    "# u_{kk} = (0,0,0), \\tilde{r}_{kk} = 1\n",
    "def LJgradient(sigma, epsilon):\n",
    "\n",
    "    def gradV(X):\n",
    "        d = X[:,NA] - X[NA,:]        # (N,N,3) displacement vectors\n",
    "        r = sqrt( sum(d*d,axis=-1) ) # (N,N)   distances\n",
    "        \n",
    "        fill_diagonal(r,1)          # Don't divide by zero\n",
    "        u = d/r[:,:,NA]             # (N,N,3) unit vectors in direction of \\xx_i - \\xx_j\n",
    "        \n",
    "        T = 6*(sigma**6) * (r**-7) - 12*(sigma**12) * (r**-13) # NxN matrix of r-derivatives\n",
    "\n",
    "        # Using the chain rule, we turn the (N,N)-matrix of r-derivatives into the (N,3)-array\n",
    "        # of derivatives to Cartesian coordinates, i.e.:the gradient.\n",
    "        return 4*epsilon*sum(T[:,:,NA] * u, axis=1)          \n",
    "\n",
    "    return gradV"
   ]
  },
  {
   "cell_type": "code",
   "execution_count": 190,
   "metadata": {},
   "outputs": [
    {
     "data": {
      "image/png": "[encoded data removed]",
      "text/plain": [
       "<Figure size 432x432 with 1 Axes>"
      ]
     },
     "metadata": {
      "needs_background": "light"
     },
     "output_type": "display_data"
    }
   ],
   "source": [
    "# (e) \n",
    "# looking at gradients of potential\n",
    "# from part (a):\n",
    "\n",
    "sigma = 3.401 # [A with a fun little hat]\n",
    "epsilon = 0.997 # [kJ/mol]\n",
    "x = np.linspace(3,11,100)\n",
    "listLJ1grad = []\n",
    "listLJ2grad = []\n",
    "for i in range(len(x)):\n",
    "    X1 = np.array([[x[i], 0, 0], [0, 0, 0]])\n",
    "    X2 = np.array([[x[i], 0, 0], [0, 0, 0],[14, 0, 0],[7, 3.2, 0]])\n",
    "    LJ1grad = LJgradient(sigma, epsilon)(X1) # lennard-jones potential gradient for part 1\n",
    "    listLJ1grad.append(LJ1grad)              # list of lennard-jones potential gradient for part 1\n",
    "    LJ2grad = LJgradient(sigma, epsilon)(X2) # lennard-jones potential gradient for part 2\n",
    "    listLJ2grad.append(LJ2grad)              # list of lennard-jones potential gradient for part 2\n",
    "\n",
    "plt.figure(figsize=(6,6))\n",
    "plt.plot(listLJ1)\n",
    "plt.plot(np.array(listLJ1grad)[:,0,0])\n",
    "plt.xlabel('x, X1')\n",
    "plt.ylabel('Lennard-Jones Potential')\n",
    "plt.show;"
   ]
  },
  {
   "cell_type": "code",
   "execution_count": 174,
   "metadata": {},
   "outputs": [
    {
     "name": "stdout",
     "output_type": "stream",
     "text": [
      "(0.4517068862915039, 20)\n"
     ]
    }
   ],
   "source": [
    "# (f)\n",
    "# line searching function\n",
    "def linesearch(F, X0, d, alphamax, tolerance, maxiterations):\n",
    "    a = lambda alpha : np.dot(d.flatten(), F(X0+alpha*d).flatten())\n",
    "    (x, ncalls) = bisection_root(a, 0, alphamax, tolerance)\n",
    "    return x, ncalls\n",
    "\n",
    "# test \n",
    "sigma = 3.401 # [A with a fun little hat]\n",
    "epsilon = 0.997 # [kJ/mol]\n",
    "X0 = np.array([[4,0,0], [0,0,0], [14,0,0], [7,3.2,0]])\n",
    "d = - LJgradient(sigma,epsilon)(X0)\n",
    "alphamax = 1\n",
    "alpha = linesearch(LJgradient(sigma,epsilon), X0, d, alphamax, 10**(-6), 1000)\n",
    "print(alpha)"
   ]
  },
  {
   "cell_type": "code",
   "execution_count": 216,
   "metadata": {},
   "outputs": [
    {
     "ename": "ValueError",
     "evalue": "operands could not be broadcast together with shapes (2,) (4,3) ",
     "output_type": "error",
     "traceback": [
      "\u001b[0;31m---------------------------------------------------------------------------\u001b[0m",
      "\u001b[0;31mValueError\u001b[0m                                Traceback (most recent call last)",
      "\u001b[0;32m<ipython-input-216-dabc7dea02ed>\u001b[0m in \u001b[0;36m<module>\u001b[0;34m\u001b[0m\n\u001b[1;32m     35\u001b[0m \u001b[0mX0\u001b[0m \u001b[0;34m=\u001b[0m \u001b[0mnp\u001b[0m\u001b[0;34m.\u001b[0m\u001b[0marray\u001b[0m\u001b[0;34m(\u001b[0m\u001b[0;34m[\u001b[0m\u001b[0;34m[\u001b[0m\u001b[0;36m4\u001b[0m\u001b[0;34m,\u001b[0m\u001b[0;36m0\u001b[0m\u001b[0;34m,\u001b[0m\u001b[0;36m0\u001b[0m\u001b[0;34m]\u001b[0m\u001b[0;34m,\u001b[0m \u001b[0;34m[\u001b[0m\u001b[0;36m0\u001b[0m\u001b[0;34m,\u001b[0m\u001b[0;36m0\u001b[0m\u001b[0;34m,\u001b[0m\u001b[0;36m0\u001b[0m\u001b[0;34m]\u001b[0m\u001b[0;34m,\u001b[0m \u001b[0;34m[\u001b[0m\u001b[0;36m14\u001b[0m\u001b[0;34m,\u001b[0m\u001b[0;36m0\u001b[0m\u001b[0;34m,\u001b[0m\u001b[0;36m0\u001b[0m\u001b[0;34m]\u001b[0m\u001b[0;34m,\u001b[0m \u001b[0;34m[\u001b[0m\u001b[0;36m7\u001b[0m\u001b[0;34m,\u001b[0m\u001b[0;36m3.2\u001b[0m\u001b[0;34m,\u001b[0m\u001b[0;36m0\u001b[0m\u001b[0;34m]\u001b[0m\u001b[0;34m]\u001b[0m\u001b[0;34m)\u001b[0m\u001b[0;34m\u001b[0m\u001b[0;34m\u001b[0m\u001b[0m\n\u001b[1;32m     36\u001b[0m \u001b[0md\u001b[0m \u001b[0;34m=\u001b[0m \u001b[0;34m-\u001b[0m \u001b[0mLJgradient\u001b[0m\u001b[0;34m(\u001b[0m\u001b[0msigma\u001b[0m\u001b[0;34m,\u001b[0m\u001b[0mepsilon\u001b[0m\u001b[0;34m)\u001b[0m\u001b[0;34m(\u001b[0m\u001b[0mX0\u001b[0m\u001b[0;34m)\u001b[0m\u001b[0;34m\u001b[0m\u001b[0;34m\u001b[0m\u001b[0m\n\u001b[0;32m---> 37\u001b[0;31m \u001b[0mxx\u001b[0m \u001b[0;34m=\u001b[0m \u001b[0mX0\u001b[0m \u001b[0;34m+\u001b[0m \u001b[0malpha\u001b[0m\u001b[0;34m*\u001b[0m\u001b[0md\u001b[0m\u001b[0;34m\u001b[0m\u001b[0;34m\u001b[0m\u001b[0m\n\u001b[0m\u001b[1;32m     38\u001b[0m \u001b[0malpha\u001b[0m \u001b[0;34m=\u001b[0m \u001b[0mgolden_section_min\u001b[0m\u001b[0;34m(\u001b[0m\u001b[0mLJ\u001b[0m\u001b[0;34m(\u001b[0m\u001b[0msigma\u001b[0m\u001b[0;34m,\u001b[0m\u001b[0mepsilon\u001b[0m\u001b[0;34m)\u001b[0m\u001b[0;34m(\u001b[0m\u001b[0mxx\u001b[0m\u001b[0;34m)\u001b[0m\u001b[0;34m,\u001b[0m \u001b[0ma\u001b[0m\u001b[0;34m,\u001b[0m \u001b[0mb\u001b[0m\u001b[0;34m)\u001b[0m\u001b[0;34m\u001b[0m\u001b[0;34m\u001b[0m\u001b[0m\n\u001b[1;32m     39\u001b[0m \u001b[0mprint\u001b[0m\u001b[0;34m(\u001b[0m\u001b[0malpha\u001b[0m\u001b[0;34m)\u001b[0m\u001b[0;34m\u001b[0m\u001b[0;34m\u001b[0m\u001b[0m\n",
      "\u001b[0;31mValueError\u001b[0m: operands could not be broadcast together with shapes (2,) (4,3) "
     ]
    }
   ],
   "source": [
    "# (g) \n",
    "ArSt = np.load('ArStart.npz')\n",
    "\n",
    "# Golden ratio minimizer\n",
    "def golden_section_min(f,a,b,tolerance=10**(-3)):\n",
    "    golden = (np.sqrt(5)+1)/2\n",
    "    ncalls = 0\n",
    "    x1 = a + (1-golden)*(b-a)\n",
    "    f1 = f(x1)\n",
    "    x2 = a + golden*(b-a)\n",
    "    f2 = f(x2)\n",
    "    while (b - a) > tolerance:\n",
    "        if f(x1) > f(x2):\n",
    "            a = x1\n",
    "            x1 = x2\n",
    "            f1 = f2\n",
    "            x2 = a + golden*(b-a)\n",
    "            f2 = f(x2)\n",
    "        else:\n",
    "            b = x2\n",
    "            x2 = x1\n",
    "            f2 = f1\n",
    "            x1 = a + (1-golden)*(b-a)\n",
    "            f1 = f(x1)\n",
    "        ncalls += 1\n",
    "    xopt = (b+a)/2\n",
    "    return xopt, ncalls\n",
    "\n",
    "\n",
    "# testing!\n",
    "a = 2\n",
    "b = 6\n",
    "sigma = 3.401\n",
    "epsilon = 0.997\n",
    "X0 = np.array([[4,0,0], [0,0,0], [14,0,0], [7,3.2,0]])\n",
    "d = - LJgradient(sigma,epsilon)(X0)\n",
    "xx = X0 + alpha*d\n",
    "alpha = golden_section_min(LJ(sigma,epsilon)(xx), a, b)\n",
    "print(alpha)"
   ]
  },
  {
   "cell_type": "code",
   "execution_count": null,
   "metadata": {},
   "outputs": [],
   "source": [
    "# (h)\n",
    "# BFGS\n",
    "def BFGS(f,gradf,X, tolerance = 10**(-6), maxiterations=10000):\n",
    "    n = f.size\n",
    "    x0 = X\n",
    "    B = np.identity(n)@x0 # initialize B\n",
    "    for k in range(maxiterations):\n",
    "        \n",
    "    \n",
    "    return xopt, ncalls, converged"
   ]
  }
 ],
 "metadata": {
  "kernelspec": {
   "display_name": "Python 3",
   "language": "python",
   "name": "python3"
  },
  "language_info": {
   "codemirror_mode": {
    "name": "ipython",
    "version": 3
   },
   "file_extension": ".py",
   "mimetype": "text/x-python",
   "name": "python",
   "nbconvert_exporter": "python",
   "pygments_lexer": "ipython3",
   "version": "3.8.3"
  }
 },
 "nbformat": 4,
 "nbformat_minor": 4
}
